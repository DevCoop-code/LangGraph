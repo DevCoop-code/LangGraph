{
 "cells": [
  {
   "cell_type": "markdown",
   "id": "72c5cd6f-a91d-409a-89f5-c5e19721ce88",
   "metadata": {},
   "source": [
    "# LangGraph를 활용한 챗봇 구축"
   ]
  },
  {
   "cell_type": "code",
   "execution_count": 1,
   "id": "12bbc492-5f15-43b8-9b24-6dcc4f5b6992",
   "metadata": {},
   "outputs": [
    {
     "data": {
      "text/plain": [
       "True"
      ]
     },
     "execution_count": 1,
     "metadata": {},
     "output_type": "execute_result"
    }
   ],
   "source": [
    "from dotenv import load_dotenv\n",
    "\n",
    "load_dotenv()"
   ]
  },
  {
   "cell_type": "markdown",
   "id": "dcb62e9a-d348-469d-8f88-2fd2abeae7aa",
   "metadata": {},
   "source": [
    "## STEP1. 상태(State) 정의"
   ]
  },
  {
   "cell_type": "code",
   "execution_count": 2,
   "id": "5ee94a1d-e81d-4b17-aae9-ab686fdab6f3",
   "metadata": {},
   "outputs": [],
   "source": [
    "from typing import Annotated, TypedDict\n",
    "from langgraph.graph import StateGraph, START, END\n",
    "from langgraph.graph.message import add_messages\n",
    "\n",
    "class State(TypedDict):\n",
    "    # 메시지 정의(list type 이며 add_messages 함수를 사용해 메시지를 추가)\n",
    "    messages: Annotated[list, add_messages]"
   ]
  },
  {
   "cell_type": "markdown",
   "id": "6ba08224-720e-4914-bd8e-6065343bb329",
   "metadata": {},
   "source": [
    "## STEP2. 노드(Node) 정의"
   ]
  },
  {
   "cell_type": "code",
   "execution_count": 11,
   "id": "0b7fc632-2d0a-461c-90ac-bfb41f5d51b2",
   "metadata": {},
   "outputs": [],
   "source": [
    "from langchain_ollama import ChatOllama\n",
    "\n",
    "# LLM 정의, Qwen2.5 7B\n",
    "qwen = ChatOllama(model=\"qwen2.5:latest\")\n",
    "\n",
    "# 챗봇 함수 정의 \n",
    "def chatbot(state: State):\n",
    "    # 메시지 호출 및 반환\n",
    "    return {\"messages\": [qwen.invoke(state[\"messages\"])]}"
   ]
  },
  {
   "cell_type": "markdown",
   "id": "6dfa42a7-5831-413f-b6b5-a5246c5ba13d",
   "metadata": {},
   "source": [
    "## STEP3. 그래프(Graph)정의, 노드 추가"
   ]
  },
  {
   "cell_type": "code",
   "execution_count": 12,
   "id": "a2e9c085-7718-406c-937f-6c590cb5e2c2",
   "metadata": {},
   "outputs": [
    {
     "data": {
      "text/plain": [
       "<langgraph.graph.state.StateGraph at 0x11475a890>"
      ]
     },
     "execution_count": 12,
     "metadata": {},
     "output_type": "execute_result"
    }
   ],
   "source": [
    "# 그래프 생성\n",
    "graph_builder = StateGraph(State)\n",
    "\n",
    "# 노드 이름, 함수 혹은 callable 객체를 인자로 받아 노드를 추가\n",
    "graph_builder.add_node(\"chatbot\", chatbot)"
   ]
  },
  {
   "cell_type": "markdown",
   "id": "1f2cd39d-90fd-4673-969a-86603d2b6c7c",
   "metadata": {},
   "source": [
    "참고\n",
    "- `chatbot` 노드 함수는 현재 `State`를 입력으로 받아 \"messages\"라는 키 아래에 업데이트된 messages 목록을 포함하는 사전(TypedDict) 을 반환합니다\n",
    "- `State`의 `add_messages` 함수는 이미 상태에 있는 메시지에 llm의 응답 메시지를 추가합니다"
   ]
  },
  {
   "cell_type": "markdown",
   "id": "cbe71b8c-5cb9-4559-910c-3553fb077706",
   "metadata": {},
   "source": [
    "## STEP4. 그래프 엣지(Edge) 추가\n",
    "`START` 지점을 추가, `START`는 그래프가 실행될 때마다 작업을 시작할 위치 "
   ]
  },
  {
   "cell_type": "code",
   "execution_count": 13,
   "id": "a144266e-9a0a-46d1-836d-11a3deb05bb6",
   "metadata": {},
   "outputs": [
    {
     "data": {
      "text/plain": [
       "<langgraph.graph.state.StateGraph at 0x11475a890>"
      ]
     },
     "execution_count": 13,
     "metadata": {},
     "output_type": "execute_result"
    }
   ],
   "source": [
    "# 시작 노드에서 챗봇 노드로의 엣지 추가\n",
    "graph_builder.add_edge(START, \"chatbot\")"
   ]
  },
  {
   "cell_type": "code",
   "execution_count": 14,
   "id": "127f620f-c748-400d-94fa-7e9fff41fe22",
   "metadata": {},
   "outputs": [
    {
     "data": {
      "text/plain": [
       "<langgraph.graph.state.StateGraph at 0x11475a890>"
      ]
     },
     "execution_count": 14,
     "metadata": {},
     "output_type": "execute_result"
    }
   ],
   "source": [
    "# 그래프에 엣지 추가\n",
    "graph_builder.add_edge(\"chatbot\", END)"
   ]
  },
  {
   "cell_type": "markdown",
   "id": "e89d5e82-147c-4046-b26b-dbd3d487579c",
   "metadata": {},
   "source": [
    "## STEP5. 그래프 컴파일(compile)"
   ]
  },
  {
   "cell_type": "code",
   "execution_count": 15,
   "id": "a6316cba-0d99-4eab-9eaa-3310aa051ed1",
   "metadata": {},
   "outputs": [],
   "source": [
    "# 그래프 컴파일\n",
    "graph = graph_builder.compile()"
   ]
  },
  {
   "cell_type": "markdown",
   "id": "550fb4f4-121d-4d7a-aacf-fd2f36572cb1",
   "metadata": {},
   "source": [
    "## STEP6. 그래프 시각화"
   ]
  },
  {
   "cell_type": "code",
   "execution_count": 16,
   "id": "d0b5898e-6c36-4a03-a38e-f5ad5ff16f0f",
   "metadata": {},
   "outputs": [
    {
     "data": {
      "image/png": "[encoded data removed]",
      "text/plain": [
       "<IPython.core.display.Image object>"
      ]
     },
     "metadata": {},
     "output_type": "display_data"
    }
   ],
   "source": [
    "from langchain_teddynote.graphs import visualize_graph\n",
    "\n",
    "# 그래프 시각화\n",
    "visualize_graph(graph)"
   ]
  },
  {
   "cell_type": "markdown",
   "id": "9fcdec44-0b3e-4b7f-bb2c-9cf178e2c7e7",
   "metadata": {},
   "source": [
    "## STEP7. 그래프 실행"
   ]
  },
  {
   "cell_type": "code",
   "execution_count": 17,
   "id": "218f190b-1d3a-4a6a-9bc8-d550a1d52920",
   "metadata": {},
   "outputs": [
    {
     "name": "stdout",
     "output_type": "stream",
     "text": [
      "Assistant: 여기 서울에서 즐길 수 있는 다양한 카테고리의 유명 맛집 TOP 10을 추천해드리겠습니다:\n",
      "\n",
      "1. 진로회인자 - 삼겹살 전문점, 경복궁 인근\n",
      "2. 대박스시 - 김밥과 비빔밥으로 유명한 곳, 홍대 인근\n",
      "3. 장이면 - 떡볶이와 순두부찌개 맛집, 양재동\n",
      "4. 고기랑소주 - 갈비탕 전문점, 경복궁 인근\n",
      "5. 이태원불닭발 - 불닭발 전문점, 이태원에 많음\n",
      "6. 미호의 비빔밥 - 브라질 요리와 비빔밥을 즐길 수 있는 곳, 송파구\n",
      "7. 월드비빔밥 - 다양한 나라의 비빔밥 맛집, 경복궁 인근\n",
      "8. 칠순면장국 - 독특한 맛의 면장국 맛집, 양재동\n",
      "9. 고기와소주 - 갈비탕과 소주를 즐길 수 있는 곳, 경복궁 인근\n",
      "10. 뚝배기 - 대구에서 유래된 칠성미면 맛집, 강남역 인근\n",
      "\n",
      "이 중에서 각자 선호하는 음식이나 위치에 따라 다른 선택을 하실 수 있습니다. 특히 대박스시와 미호의 비빔밥 같은 곳은 인기가 많아 예약을 하는 것이 좋습니다.\n"
     ]
    }
   ],
   "source": [
    "question = \"서울의 유명한 맛집 TOP 10 추천해줘\"\n",
    "\n",
    "# 그래프 이벤트 스트리밍\n",
    "for event in graph.stream({\"messages\": [(\"user\", question)]}):\n",
    "    # 이벤트 값 출력\n",
    "    for value in event.values():\n",
    "        print(\"Assistant:\", value[\"messages\"][-1].content)"
   ]
  },
  {
   "cell_type": "code",
   "execution_count": null,
   "id": "7f77f41a-9aad-4f73-98b0-94984ab4944f",
   "metadata": {},
   "outputs": [],
   "source": []
  }
 ],
 "metadata": {
  "kernelspec": {
   "display_name": "Python 3 (ipykernel)",
   "language": "python",
   "name": "python3"
  },
  "language_info": {
   "codemirror_mode": {
    "name": "ipython",
    "version": 3
   },
   "file_extension": ".py",
   "mimetype": "text/x-python",
   "name": "python",
   "nbconvert_exporter": "python",
   "pygments_lexer": "ipython3",
   "version": "3.11.11"
  }
 },
 "nbformat": 4,
 "nbformat_minor": 5
}
