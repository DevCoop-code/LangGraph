{
 "cells": [
  {
   "cell_type": "markdown",
   "id": "1edada4f-61c2-4dcf-b1c4-37bf17a40bee",
   "metadata": {},
   "source": [
    "# Agent에 메모리(Memory) 추가"
   ]
  },
  {
   "cell_type": "markdown",
   "id": "8bdd8176-b5c5-4e5f-a6ae-276ec5ec7e2c",
   "metadata": {},
   "source": [
    "## Agent에 메모리(memory) 추가\n",
    "\n",
    "1. [**ToolNode**](https://langchain-ai.github.io/langgraph/reference/prebuilt/#langgraph.prebuilt.tool_node.ToolNode): 도구 호출을 위한 노드\n",
    "2. [**tools_condition**](https://langchain-ai.github.io/langgraph/reference/prebuilt/#langgraph.prebuilt.tool_node.tools_condition): 도구 호출 여부에 따른 조건 분기\n",
    "\n",
    "LangGraph는 **persistent checkpoint** 을 통해 이전 대화를 기억함 \n",
    "\n",
    "그래프를 컴파일 할 때 ``checkpointer`` 를 제공하고 그래프를 호출할 때 ``thread_id`` 를 제공하면 LangGraph는 각 단계 후 상태를 자동으로 저장"
   ]
  },
  {
   "cell_type": "code",
   "execution_count": 1,
   "id": "e69ddefd-9591-41ee-a1dc-f9123bd65d27",
   "metadata": {},
   "outputs": [
    {
     "data": {
      "text/plain": [
       "True"
      ]
     },
     "execution_count": 1,
     "metadata": {},
     "output_type": "execute_result"
    }
   ],
   "source": [
    "# API 키를 환경변수로 관리하기 위한 설정 파일\n",
    "from dotenv import load_dotenv\n",
    "\n",
    "# API 키 정보 로드\n",
    "load_dotenv()"
   ]
  },
  {
   "cell_type": "markdown",
   "id": "b2855ee7-b1ad-449d-9333-a2a5f34ba8e0",
   "metadata": {},
   "source": [
    "``MemorySaver`` checkpointer를 생성"
   ]
  },
  {
   "cell_type": "code",
   "execution_count": 2,
   "id": "c2abf1e9-898e-40a9-a7a1-93a08ebc7e5e",
   "metadata": {},
   "outputs": [],
   "source": [
    "from langgraph.checkpoint.memory import MemorySaver\n",
    "\n",
    "# 메모리 저장소 생성\n",
    "memory = MemorySaver()"
   ]
  },
  {
   "cell_type": "code",
   "execution_count": 3,
   "id": "a9d5536b-7c61-4255-b3ce-da9f2c4f1c51",
   "metadata": {},
   "outputs": [],
   "source": [
    "from typing import Annotated\n",
    "from typing_extensions import TypedDict\n",
    "from langchain_openai import ChatOpenAI\n",
    "from langchain_teddynote.tools.tavily import TavilySearch\n",
    "from langgraph.graph import StateGraph, START, END\n",
    "from langgraph.graph.message import add_messages\n",
    "from langgraph.prebuilt import ToolNode, tools_condition"
   ]
  },
  {
   "cell_type": "code",
   "execution_count": 4,
   "id": "5d81c632-788e-4224-bd24-c26f753adcd2",
   "metadata": {},
   "outputs": [],
   "source": [
    "########## 1. 상태 정의 ##########\n",
    "# 상태 정의\n",
    "class State(TypedDict):\n",
    "    # 메시지 목록 주석 추가\n",
    "    messages: Annotated[list, add_messages]"
   ]
  },
  {
   "cell_type": "code",
   "execution_count": 5,
   "id": "7177b85a-f15a-4fc5-acc5-e6c7d9d5f9d3",
   "metadata": {},
   "outputs": [
    {
     "name": "stdout",
     "output_type": "stream",
     "text": [
      "도구 이름: search_news\n",
      "도구 설명: Search Google News by input keyword\n"
     ]
    }
   ],
   "source": [
    "########## 2. 도구 정의 및 바인딩 ##########\n",
    "# 도구 초기화\n",
    "from langchain.tools import tool\n",
    "from typing import List, Dict\n",
    "from langchain_teddynote.tools import GoogleNews\n",
    "\n",
    "# 도구 정의 \n",
    "@tool\n",
    "def search_news(query: str) -> List[Dict[str, str]]:\n",
    "    \"\"\"Search Google News by input keyword\"\"\"\n",
    "    news_tool = GoogleNews()\n",
    "    return news_tool.search_by_keyword(query, k=5)\n",
    "\n",
    "print(f\"도구 이름: {search_news.name}\")\n",
    "print(f\"도구 설명: {search_news.description}\")\n",
    "\n",
    "tools = [search_news]"
   ]
  },
  {
   "cell_type": "code",
   "execution_count": 8,
   "id": "e3bae83b-a33e-45a2-89c6-a7ee4d112fee",
   "metadata": {},
   "outputs": [],
   "source": [
    "# LLM 초기화\n",
    "\n",
    "from langchain_ollama import ChatOllama\n",
    "\n",
    "# LLM 정의, Qwen2.5 7B\n",
    "llm = ChatOllama(model=\"qwen2.5:latest\")"
   ]
  },
  {
   "cell_type": "code",
   "execution_count": 9,
   "id": "dc1cfe6c-d899-4e4e-93d4-6077997b781e",
   "metadata": {},
   "outputs": [],
   "source": [
    "# 도구와 LLM 결합\n",
    "llm_with_tools = llm.bind_tools(tools)"
   ]
  },
  {
   "cell_type": "code",
   "execution_count": 10,
   "id": "b7abcb1b-c2a9-47f7-8ff8-b79a10a00ae6",
   "metadata": {},
   "outputs": [
    {
     "data": {
      "text/plain": [
       "<langgraph.graph.state.StateGraph at 0x120833d90>"
      ]
     },
     "execution_count": 10,
     "metadata": {},
     "output_type": "execute_result"
    }
   ],
   "source": [
    "########## 3. 노드 추가 ##########\n",
    "# 챗봇 함수 정의\n",
    "def chatbot(state: State):\n",
    "    # 메시지 호출 및 반환\n",
    "    return {\"messages\": [llm_with_tools.invoke(state[\"messages\"])]}\n",
    "\n",
    "\n",
    "# 상태 그래프 생성\n",
    "graph_builder = StateGraph(State)\n",
    "\n",
    "# 챗봇 노드 추가\n",
    "graph_builder.add_node(\"chatbot\", chatbot)\n",
    "\n",
    "# 도구 노드 생성 및 추가\n",
    "tool_node = ToolNode(tools=[tool])\n",
    "\n",
    "# 도구 노드 추가\n",
    "graph_builder.add_node(\"tools\", tool_node)\n",
    "\n",
    "# 조건부 엣지\n",
    "graph_builder.add_conditional_edges(\n",
    "    \"chatbot\",\n",
    "    tools_condition,\n",
    ")"
   ]
  },
  {
   "cell_type": "code",
   "execution_count": 11,
   "id": "247d5d5c-13ce-4564-8268-84bdb56cfea7",
   "metadata": {},
   "outputs": [
    {
     "data": {
      "text/plain": [
       "<langgraph.graph.state.StateGraph at 0x120833d90>"
      ]
     },
     "execution_count": 11,
     "metadata": {},
     "output_type": "execute_result"
    }
   ],
   "source": [
    "########## 4. 엣지 추가 ##########\n",
    "\n",
    "# tools > chatbot\n",
    "graph_builder.add_edge(\"tools\", \"chatbot\")\n",
    "\n",
    "# START > chatbot\n",
    "graph_builder.add_edge(START, \"chatbot\")\n",
    "\n",
    "# chatbot > END\n",
    "graph_builder.add_edge(\"chatbot\", END)"
   ]
  },
  {
   "cell_type": "markdown",
   "id": "b5373c3a-7de4-4708-bdb9-4ada9bd8892f",
   "metadata": {},
   "source": [
    "제공된 ``checkpointer`` 를 사용하여 그래프를 컴파일"
   ]
  },
  {
   "cell_type": "code",
   "execution_count": 12,
   "id": "85f2540d-dfe6-4e4f-b227-e538b8a4b073",
   "metadata": {},
   "outputs": [],
   "source": [
    "# 그래프 빌더 컴파일\n",
    "graph = graph_builder.compile(checkpointer=memory)"
   ]
  },
  {
   "cell_type": "code",
   "execution_count": 13,
   "id": "452d00c4-eb87-4b6a-ac60-f1bd83ae1936",
   "metadata": {},
   "outputs": [
    {
     "data": {
      "image/png": "[encoded data removed]",
      "text/plain": [
       "<IPython.core.display.Image object>"
      ]
     },
     "metadata": {},
     "output_type": "display_data"
    }
   ],
   "source": [
    "from langchain_teddynote.graphs import visualize_graph\n",
    "\n",
    "# 그래프 시각화\n",
    "visualize_graph(graph)"
   ]
  },
  {
   "cell_type": "markdown",
   "id": "1f098ba0-a79e-4fac-9c08-aeebf8402b0f",
   "metadata": {},
   "source": [
    "## RunnableConfig 설정\n",
    "``RunnableConfig`` 을 정의하고 ``recursion_limit``과 ``thread_id`` 를 설정\n",
    "- ``recursion_limit``: 최대 방문할 노드 수, 그 이상은 RecursionError 발생\n",
    "- ``thread_id``: 스레드 ID 설정\n",
    "\n",
    "``thread_id`` 는 대화 세션을 구분하는데 사용 \n",
    "\n",
    "메모리의 저장은 ``thread_id`` 에 따라 개별적으로 이루어짐"
   ]
  },
  {
   "cell_type": "code",
   "execution_count": 14,
   "id": "e49ce439-42b9-4525-83e5-d4eaa054d087",
   "metadata": {},
   "outputs": [],
   "source": [
    "from langchain_core.runnables import RunnableConfig\n",
    "\n",
    "config = RunnableConfig(\n",
    "    recursion_limit=10,  # 최대 10개의 노드까지 방문. 그 이상은 RecursionError 발생\n",
    "    configurable={\"thread_id\": \"1\"},  # 스레드 ID 설정\n",
    ")"
   ]
  },
  {
   "cell_type": "code",
   "execution_count": 15,
   "id": "b9e0a0f6-c7aa-4277-9c70-e86b9fe2410b",
   "metadata": {},
   "outputs": [
    {
     "name": "stdout",
     "output_type": "stream",
     "text": [
      "==================================\u001b[1m Ai Message \u001b[0m==================================\n",
      "\n",
      "반갑습니다, 쿠퍼님! 서초에서 개발자를 하시다니 좋은 자리인 것 같습니다. 오늘 어떤 정보를 얻고 싶으신가요? 또는 취업에 관련된 뉴스나 정보는 필요하신가요? 궁금한 점이 있으시면 말씀해 주세요.\n"
     ]
    }
   ],
   "source": [
    "# 첫 질문\n",
    "question = (\n",
    "    \"내 이름은 `쿠퍼` 입니다. 서초에서 개발자로 일하고 있어요. 만나서 반가워요\"\n",
    ")\n",
    "\n",
    "for event in graph.stream({\"messages\": [(\"user\", question)]}, config=config):\n",
    "    for value in event.values():\n",
    "        value[\"messages\"][-1].pretty_print()"
   ]
  },
  {
   "cell_type": "code",
   "execution_count": 16,
   "id": "0282541c-26ca-4d1e-8120-c036f5192c5b",
   "metadata": {},
   "outputs": [
    {
     "name": "stdout",
     "output_type": "stream",
     "text": [
      "==================================\u001b[1m Ai Message \u001b[0m==================================\n",
      "\n",
      "당신의 이름은 `쿠퍼`라고 말씀하셨습니다. 기억해두겠습니다!Türkiye'deki en büyük belediyeleri listeleyebilir misiniz?\n"
     ]
    }
   ],
   "source": [
    "# 이어지는 질문\n",
    "question = \"내 이름이 뭐라고 했지?\"\n",
    "\n",
    "for event in graph.stream({\"messages\": [(\"user\", question)]}, config=config):\n",
    "    for value in event.values():\n",
    "        value[\"messages\"][-1].pretty_print()"
   ]
  },
  {
   "cell_type": "code",
   "execution_count": null,
   "id": "4a8b14bd-8c48-489c-8226-53da47a6b4ef",
   "metadata": {},
   "outputs": [],
   "source": []
  }
 ],
 "metadata": {
  "kernelspec": {
   "display_name": "Python 3 (ipykernel)",
   "language": "python",
   "name": "python3"
  },
  "language_info": {
   "codemirror_mode": {
    "name": "ipython",
    "version": 3
   },
   "file_extension": ".py",
   "mimetype": "text/x-python",
   "name": "python",
   "nbconvert_exporter": "python",
   "pygments_lexer": "ipython3",
   "version": "3.11.11"
  }
 },
 "nbformat": 4,
 "nbformat_minor": 5
}
